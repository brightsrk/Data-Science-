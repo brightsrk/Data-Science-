{
  "metadata": {
    "kernelspec": {
      "name": "python",
      "display_name": "Python (Pyodide)",
      "language": "python"
    },
    "language_info": {
      "codemirror_mode": {
        "name": "python",
        "version": 3
      },
      "file_extension": ".py",
      "mimetype": "text/x-python",
      "name": "python",
      "nbconvert_exporter": "python",
      "pygments_lexer": "ipython3",
      "version": "3.8"
    }
  },
  "nbformat_minor": 5,
  "nbformat": 4,
  "cells": [
    {
      "id": "a11b97e0-7d90-46d0-8da9-a509d4366b39",
      "cell_type": "markdown",
      "source": "# Data Science Tools And Ecosystem",
      "metadata": {}
    },
    {
      "id": "139a750b-6568-48e3-892d-6b10c23fa04c",
      "cell_type": "markdown",
      "source": "## In this notebook, Data Science tools and Ecosystem are Summarized.",
      "metadata": {}
    },
    {
      "id": "a392fdfa-aa2b-43f9-8b26-896b5dd2b9da",
      "cell_type": "markdown",
      "source": "## Some of the Popular Languages That Data Scientists use are:\n1. Python\n2. R\n3. SQL\n4. Java Script\n5. Scala",
      "metadata": {}
    },
    {
      "id": "aeeed6d0-48e8-4b8c-8be1-b176ae430c23",
      "cell_type": "markdown",
      "source": "## Some of the commonly used libraries used by Data Scientists include:\n1. Numpy\n2. Scipy\n3. Pandas\n4. Tensor Flow\n5. Matplotlib",
      "metadata": {}
    },
    {
      "id": "fb4f1de4-51bb-4131-a87a-c9de350fbc76",
      "cell_type": "markdown",
      "source": "## Data Science Tools\n1. SAS\n2. Apache Hadoop\n3. Tensor Flow",
      "metadata": {}
    },
    {
      "id": "10d9eaff-4aaa-40af-8ce7-091b60b37e4a",
      "cell_type": "markdown",
      "source": "### Below are a few examples of evaluating arithmetic expressions in Python",
      "metadata": {}
    },
    {
      "id": "08b91aa8-ab2c-40e3-856d-d202ac35202a",
      "cell_type": "code",
      "source": "#This a simple arithmetic expression to mutiply then add integers\n(3*4)+5",
      "metadata": {
        "trusted": true
      },
      "outputs": [
        {
          "execution_count": 2,
          "output_type": "execute_result",
          "data": {
            "text/plain": "17"
          },
          "metadata": {}
        }
      ],
      "execution_count": 2
    },
    {
      "id": "dc9684de-575a-437b-814e-50089bcfb59a",
      "cell_type": "code",
      "source": "#This will convert 200 minutes to hours by diving by 60.\n200/60",
      "metadata": {
        "trusted": true
      },
      "outputs": [
        {
          "execution_count": 3,
          "output_type": "execute_result",
          "data": {
            "text/plain": "3.3333333333333335"
          },
          "metadata": {}
        }
      ],
      "execution_count": 3
    },
    {
      "id": "8075b89d-67d8-44ab-b388-2ebb2f771672",
      "cell_type": "markdown",
      "source": "__Objectives__\n* List Popular Languages for Data Science\n* List Popular Libraries for Data Science\n* List Of well known Data Science list\n* How to provide Comments in the Cell",
      "metadata": {}
    },
    {
      "id": "74a16904-8788-4801-a793-1ac0ae277c44",
      "cell_type": "markdown",
      "source": "## Author\nShahrukh",
      "metadata": {}
    }
  ]
}